{
 "cells": [
  {
   "cell_type": "code",
   "execution_count": 1,
   "metadata": {
    "collapsed": true
   },
   "outputs": [],
   "source": [
    "%matplotlib inline\n",
    "\n",
    "import matplotlib\n",
    "import numpy as np\n",
    "import matplotlib.pyplot as plt"
   ]
  },
  {
   "cell_type": "code",
   "execution_count": 2,
   "metadata": {
    "collapsed": true
   },
   "outputs": [],
   "source": [
    "from imclas.collections import CollectionManager"
   ]
  },
  {
   "cell_type": "code",
   "execution_count": 3,
   "metadata": {
    "collapsed": true
   },
   "outputs": [],
   "source": [
    "manager = CollectionManager()"
   ]
  },
  {
   "cell_type": "code",
   "execution_count": 4,
   "metadata": {
    "collapsed": false,
    "scrolled": true
   },
   "outputs": [
    {
     "name": "stdout",
     "output_type": "stream",
     "text": [
      "Error on image stop signs40.jpg\n",
      "The error was: E:\\Work\\opencv\\sources\\modules\\imgproc\\src\\imgwarp.cpp:3229: error: (-215) ssize.area() > 0 in function cv::resize\n",
      "\n",
      "Error on image stop signs100.jpg\n",
      "The error was: E:\\Work\\opencv\\sources\\modules\\imgproc\\src\\imgwarp.cpp:3229: error: (-215) ssize.area() > 0 in function cv::resize\n",
      "\n",
      "Error on image stop signs140.jpg\n",
      "The error was: E:\\Work\\opencv\\sources\\modules\\imgproc\\src\\imgwarp.cpp:3229: error: (-215) ssize.area() > 0 in function cv::resize\n",
      "\n",
      "Error on image stop signs21.jpg\n",
      "The error was: E:\\Work\\opencv\\sources\\modules\\imgproc\\src\\imgwarp.cpp:3229: error: (-215) ssize.area() > 0 in function cv::resize\n",
      "\n",
      "Error on image stop signs160.jpg\n",
      "The error was: E:\\Work\\opencv\\sources\\modules\\imgproc\\src\\imgwarp.cpp:3229: error: (-215) ssize.area() > 0 in function cv::resize\n",
      "\n",
      "Error on image stop signs180.jpg\n",
      "The error was: E:\\Work\\opencv\\sources\\modules\\imgproc\\src\\imgwarp.cpp:3229: error: (-215) ssize.area() > 0 in function cv::resize\n",
      "\n",
      "Error on image stop signs71.jpg\n",
      "The error was: E:\\Work\\opencv\\sources\\modules\\imgproc\\src\\imgwarp.cpp:3229: error: (-215) ssize.area() > 0 in function cv::resize\n",
      "\n",
      "Error on image stop signs51.jpg\n",
      "The error was: E:\\Work\\opencv\\sources\\modules\\imgproc\\src\\imgwarp.cpp:3229: error: (-215) ssize.area() > 0 in function cv::resize\n",
      "\n",
      "Error on image stop signs111.jpg\n",
      "The error was: E:\\Work\\opencv\\sources\\modules\\imgproc\\src\\imgwarp.cpp:3229: error: (-215) ssize.area() > 0 in function cv::resize\n",
      "\n",
      "Error on image stop signs151.jpg\n",
      "The error was: E:\\Work\\opencv\\sources\\modules\\imgproc\\src\\imgwarp.cpp:3229: error: (-215) ssize.area() > 0 in function cv::resize\n",
      "\n",
      "Error on image stop signs52.jpg\n",
      "The error was: E:\\Work\\opencv\\sources\\modules\\imgproc\\src\\imgwarp.cpp:3229: error: (-215) ssize.area() > 0 in function cv::resize\n",
      "\n",
      "Error on image stop signs172.jpg\n",
      "The error was: E:\\Work\\opencv\\sources\\modules\\imgproc\\src\\imgwarp.cpp:3229: error: (-215) ssize.area() > 0 in function cv::resize\n",
      "\n",
      "Error on image stop signs122.jpg\n",
      "The error was: E:\\Work\\opencv\\sources\\modules\\imgproc\\src\\imgwarp.cpp:3229: error: (-215) ssize.area() > 0 in function cv::resize\n",
      "\n",
      "Error on image stop signs14.jpg\n",
      "The error was: E:\\Work\\opencv\\sources\\modules\\imgproc\\src\\imgwarp.cpp:3229: error: (-215) ssize.area() > 0 in function cv::resize\n",
      "\n",
      "Error on image stop signs123.jpg\n",
      "The error was: E:\\Work\\opencv\\sources\\modules\\imgproc\\src\\imgwarp.cpp:3229: error: (-215) ssize.area() > 0 in function cv::resize\n",
      "\n",
      "Error on image stop signs94.jpg\n",
      "The error was: E:\\Work\\opencv\\sources\\modules\\imgproc\\src\\imgwarp.cpp:3229: error: (-215) ssize.area() > 0 in function cv::resize\n",
      "\n",
      "Error on image stop signs85.jpg\n",
      "The error was: E:\\Work\\opencv\\sources\\modules\\imgproc\\src\\imgwarp.cpp:3229: error: (-215) ssize.area() > 0 in function cv::resize\n",
      "\n",
      "Error on image stop signs4.jpg\n",
      "The error was: E:\\Work\\opencv\\sources\\modules\\imgproc\\src\\imgwarp.cpp:3229: error: (-215) ssize.area() > 0 in function cv::resize\n",
      "\n",
      "Error on image stop signs74.jpg\n",
      "The error was: E:\\Work\\opencv\\sources\\modules\\imgproc\\src\\imgwarp.cpp:3229: error: (-215) ssize.area() > 0 in function cv::resize\n",
      "\n",
      "Error on image stop signs163.jpg\n",
      "The error was: E:\\Work\\opencv\\sources\\modules\\imgproc\\src\\imgwarp.cpp:3229: error: (-215) ssize.area() > 0 in function cv::resize\n",
      "\n",
      "Error on image stop signs96.jpg\n",
      "The error was: E:\\Work\\opencv\\sources\\modules\\imgproc\\src\\imgwarp.cpp:3229: error: (-215) ssize.area() > 0 in function cv::resize\n",
      "\n",
      "Error on image stop signs196.jpg\n",
      "The error was: E:\\Work\\opencv\\sources\\modules\\imgproc\\src\\imgwarp.cpp:3229: error: (-215) ssize.area() > 0 in function cv::resize\n",
      "\n",
      "Error on image stop signs144.jpg\n",
      "The error was: E:\\Work\\opencv\\sources\\modules\\imgproc\\src\\imgwarp.cpp:3229: error: (-215) ssize.area() > 0 in function cv::resize\n",
      "\n",
      "Error on image stop signs19.jpg\n",
      "The error was: E:\\Work\\opencv\\sources\\modules\\imgproc\\src\\imgwarp.cpp:3229: error: (-215) ssize.area() > 0 in function cv::resize\n",
      "\n",
      "Thread for argument 10 is done\n",
      "Thread for argument 170 is done\n",
      "Error on image stop signs46.jpg\n",
      "The error was: [Errno socket error] [SSL: CERTIFICATE_VERIFY_FAILED] certificate verify failed (_ssl.c:590)\n",
      "Error on image stop signs165.jpg\n",
      "The error was: E:\\Work\\opencv\\sources\\modules\\imgproc\\src\\imgwarp.cpp:3229: error: (-215) ssize.area() > 0 in function cv::resize\n",
      "\n",
      "Thread for argument 190 is done\n",
      "Thread for argument 90 is done\n",
      "Thread for argument 100 is done\n",
      "Error on image stop signs186.jpg\n",
      "The error was: E:\\Work\\opencv\\sources\\modules\\imgproc\\src\\imgwarp.cpp:3229: error: (-215) ssize.area() > 0 in function cv::resize\n",
      "\n",
      "Thread for argument 80 is done\n",
      "Error on image stop signs58.jpg\n",
      "The error was: [Errno socket error] [SSL: CERTIFICATE_VERIFY_FAILED] certificate verify failed (_ssl.c:590)\n",
      "Error on image stop signs166.jpg\n",
      "The error was: E:\\Work\\opencv\\sources\\modules\\imgproc\\src\\imgwarp.cpp:3229: error: (-215) ssize.area() > 0 in function cv::resize\n",
      "\n",
      "Thread for argument 40 is done\n",
      "Thread for argument 50 is done\n",
      "Error on image stop signs188.jpg\n",
      "The error was: E:\\Work\\opencv\\sources\\modules\\imgproc\\src\\imgwarp.cpp:3229: error: (-215) ssize.area() > 0 in function cv::resize\n",
      "\n",
      "Thread for argument 110 is done\n",
      "Error on image stop signs39.jpg\n",
      "The error was: E:\\Work\\opencv\\sources\\modules\\imgproc\\src\\imgwarp.cpp:3229: error: (-215) ssize.area() > 0 in function cv::resize\n",
      "\n",
      "Thread for argument 30 is done\n",
      "Thread for argument 70 is done\n",
      "Error on image stop signs147.jpg\n",
      "The error was: E:\\Work\\opencv\\sources\\modules\\imgproc\\src\\imgwarp.cpp:3229: error: (-215) ssize.area() > 0 in function cv::resize\n",
      "\n",
      "Error on image stop signs148.jpg\n",
      "The error was: E:\\Work\\opencv\\sources\\modules\\imgproc\\src\\imgwarp.cpp:3229: error: (-215) ssize.area() > 0 in function cv::resize\n",
      "\n",
      "Thread for argument 180 is done\n",
      "Thread for argument 130 is done\n",
      "Thread for argument 160 is done\n",
      "Thread for argument 140 is done\n",
      "Thread for argument 150 is done\n",
      "Thread for argument 120 is done\n",
      "Error on image stop signs67.jpg\n",
      "The error was: E:\\Work\\opencv\\sources\\modules\\imgproc\\src\\imgwarp.cpp:3229: error: (-215) ssize.area() > 0 in function cv::resize\n",
      "\n",
      "Thread for argument 60 is done\n",
      "Thread for argument 0 is done\n",
      "Error on image stop signs26.jpg\n",
      "The error was: [Errno socket error] [Errno 11002] getaddrinfo failed\n",
      "Error on image stop signs29.jpg\n",
      "The error was: E:\\Work\\opencv\\sources\\modules\\imgproc\\src\\imgwarp.cpp:3229: error: (-215) ssize.area() > 0 in function cv::resize\n",
      "\n",
      "Thread for argument 20 is done\n"
     ]
    }
   ],
   "source": [
    "manager.create_collection('stop sign', 200, 'stop signs')"
   ]
  },
  {
   "cell_type": "code",
   "execution_count": 21,
   "metadata": {
    "collapsed": false,
    "scrolled": false
   },
   "outputs": [
    {
     "ename": "Exception",
     "evalue": "Collection does not exist!",
     "output_type": "error",
     "traceback": [
      "\u001b[1;31m---------------------------------------------------------------------------\u001b[0m",
      "\u001b[1;31mException\u001b[0m                                 Traceback (most recent call last)",
      "\u001b[1;32m<ipython-input-21-00af6112385c>\u001b[0m in \u001b[0;36m<module>\u001b[1;34m()\u001b[0m\n\u001b[1;32m----> 1\u001b[1;33m \u001b[0mmanager\u001b[0m\u001b[1;33m.\u001b[0m\u001b[0mremove_collection\u001b[0m\u001b[1;33m(\u001b[0m\u001b[1;34m'stop signs'\u001b[0m\u001b[1;33m)\u001b[0m\u001b[1;33m\u001b[0m\u001b[0m\n\u001b[0m",
      "\u001b[1;32mc:\\python27\\lib\\site-packages\\imclas\\collections\\collection_manager.pyc\u001b[0m in \u001b[0;36mremove_collection\u001b[1;34m(self, collection_name)\u001b[0m\n\u001b[0;32m     29\u001b[0m             \u001b[0mself\u001b[0m\u001b[1;33m.\u001b[0m\u001b[0mdal\u001b[0m\u001b[1;33m.\u001b[0m\u001b[0mremove_collection\u001b[0m\u001b[1;33m(\u001b[0m\u001b[0mcollection_name\u001b[0m\u001b[1;33m)\u001b[0m\u001b[1;33m\u001b[0m\u001b[0m\n\u001b[0;32m     30\u001b[0m         \u001b[1;32melse\u001b[0m\u001b[1;33m:\u001b[0m\u001b[1;33m\u001b[0m\u001b[0m\n\u001b[1;32m---> 31\u001b[1;33m             \u001b[1;32mraise\u001b[0m \u001b[0mException\u001b[0m\u001b[1;33m(\u001b[0m\u001b[1;34m'Collection does not exist!'\u001b[0m\u001b[1;33m)\u001b[0m\u001b[1;33m\u001b[0m\u001b[0m\n\u001b[0m\u001b[0;32m     32\u001b[0m \u001b[1;33m\u001b[0m\u001b[0m\n\u001b[0;32m     33\u001b[0m     \u001b[1;32mdef\u001b[0m \u001b[0madd_paths_to_db\u001b[0m\u001b[1;33m(\u001b[0m\u001b[0mself\u001b[0m\u001b[1;33m,\u001b[0m \u001b[0mcollection_path\u001b[0m\u001b[1;33m,\u001b[0m \u001b[0mcollection_name\u001b[0m\u001b[1;33m)\u001b[0m\u001b[1;33m:\u001b[0m\u001b[1;33m\u001b[0m\u001b[0m\n",
      "\u001b[1;31mException\u001b[0m: Collection does not exist!"
     ]
    }
   ],
   "source": [
    "manager.remove_collection('stop signs')"
   ]
  },
  {
   "cell_type": "code",
   "execution_count": 2,
   "metadata": {
    "collapsed": true
   },
   "outputs": [],
   "source": [
    "from imclas.data_acquisition import DAL"
   ]
  },
  {
   "cell_type": "code",
   "execution_count": 3,
   "metadata": {
    "collapsed": false
   },
   "outputs": [],
   "source": [
    "d = DAL()"
   ]
  },
  {
   "cell_type": "code",
   "execution_count": 4,
   "metadata": {
    "collapsed": false,
    "scrolled": false
   },
   "outputs": [
    {
     "data": {
      "text/plain": [
       "[(u'sqlite_sequence',), (u'collections',), (u'collection_items',)]"
      ]
     },
     "execution_count": 4,
     "metadata": {},
     "output_type": "execute_result"
    }
   ],
   "source": [
    "d.get_tables_names()"
   ]
  },
  {
   "cell_type": "code",
   "execution_count": 4,
   "metadata": {
    "collapsed": false,
    "scrolled": true
   },
   "outputs": [
    {
     "data": {
      "text/plain": [
       "164"
      ]
     },
     "execution_count": 4,
     "metadata": {},
     "output_type": "execute_result"
    }
   ],
   "source": [
    "len(d.get_items_in_collection('stop signs'))"
   ]
  },
  {
   "cell_type": "code",
   "execution_count": 306,
   "metadata": {
    "collapsed": false
   },
   "outputs": [
    {
     "data": {
      "text/plain": [
       "deque([(1, u'no left turn signs'), (4, u'stop signs')])"
      ]
     },
     "execution_count": 306,
     "metadata": {},
     "output_type": "execute_result"
    }
   ],
   "source": [
    "d.execute_query('select * from collections')"
   ]
  },
  {
   "cell_type": "code",
   "execution_count": 11,
   "metadata": {
    "collapsed": true
   },
   "outputs": [],
   "source": [
    "from imclas.features import FeatureExtractor"
   ]
  },
  {
   "cell_type": "code",
   "execution_count": 12,
   "metadata": {
    "collapsed": true
   },
   "outputs": [],
   "source": [
    "fex = FeatureExtractor()"
   ]
  },
  {
   "cell_type": "code",
   "execution_count": 11,
   "metadata": {
    "collapsed": false
   },
   "outputs": [
    {
     "name": "stdout",
     "output_type": "stream",
     "text": [
      "Wall time: 3.7 s\n"
     ]
    }
   ],
   "source": [
    "%time features = fex.extract_features_from_collection(d.get_items_in_collection('stop signs'))"
   ]
  },
  {
   "cell_type": "code",
   "execution_count": 8,
   "metadata": {
    "collapsed": false
   },
   "outputs": [
    {
     "ename": "NameError",
     "evalue": "name 'features' is not defined",
     "output_type": "error",
     "traceback": [
      "\u001b[1;31m---------------------------------------------------------------------------\u001b[0m",
      "\u001b[1;31mNameError\u001b[0m                                 Traceback (most recent call last)",
      "\u001b[1;32m<ipython-input-8-b013157ad8dc>\u001b[0m in \u001b[0;36m<module>\u001b[1;34m()\u001b[0m\n\u001b[1;32m----> 1\u001b[1;33m \u001b[0mlen\u001b[0m\u001b[1;33m(\u001b[0m\u001b[0mfeatures\u001b[0m\u001b[1;33m)\u001b[0m\u001b[1;33m\u001b[0m\u001b[0m\n\u001b[0m",
      "\u001b[1;31mNameError\u001b[0m: name 'features' is not defined"
     ]
    }
   ],
   "source": [
    "len(features)"
   ]
  },
  {
   "cell_type": "code",
   "execution_count": 4,
   "metadata": {
    "collapsed": true
   },
   "outputs": [],
   "source": [
    "from sklearn.cluster import KMeans"
   ]
  },
  {
   "cell_type": "code",
   "execution_count": 298,
   "metadata": {
    "collapsed": false
   },
   "outputs": [],
   "source": [
    "import cPickle"
   ]
  },
  {
   "cell_type": "code",
   "execution_count": 301,
   "metadata": {
    "collapsed": true
   },
   "outputs": [],
   "source": [
    "?cPickle.dump"
   ]
  },
  {
   "cell_type": "code",
   "execution_count": 303,
   "metadata": {
    "collapsed": false
   },
   "outputs": [],
   "source": [
    "with open(\"C:\\\\Users\\\\darkg\\\\Desktop\\\\class.txt\", \"w\") as f:\n",
    "    cPickle.dump(classifier, f)"
   ]
  },
  {
   "cell_type": "code",
   "execution_count": 304,
   "metadata": {
    "collapsed": true
   },
   "outputs": [],
   "source": [
    "with open(\"C:\\\\Users\\\\darkg\\\\Desktop\\\\class.txt\", \"r\") as f:\n",
    "    clf = cPickle.load(f)"
   ]
  },
  {
   "cell_type": "code",
   "execution_count": 14,
   "metadata": {
    "collapsed": true
   },
   "outputs": [],
   "source": [
    "classifier = KMeans(n_jobs=-1, n_clusters=50)"
   ]
  },
  {
   "cell_type": "code",
   "execution_count": 15,
   "metadata": {
    "collapsed": false
   },
   "outputs": [
    {
     "data": {
      "text/plain": [
       "KMeans(copy_x=True, init='k-means++', max_iter=300, n_clusters=50, n_init=10,\n",
       "    n_jobs=-1, precompute_distances='auto', random_state=None, tol=0.0001,\n",
       "    verbose=0)"
      ]
     },
     "execution_count": 15,
     "metadata": {},
     "output_type": "execute_result"
    }
   ],
   "source": [
    "classifier.fit(features)"
   ]
  },
  {
   "cell_type": "code",
   "execution_count": 40,
   "metadata": {
    "collapsed": false,
    "scrolled": true
   },
   "outputs": [
    {
     "data": {
      "text/plain": [
       "array([[  7.16452991,   5.47863248,  27.70726496, ...,  13.19444444,\n",
       "         11.69871795,  23.24145299],\n",
       "       [ 29.32251082,  47.37229437,  40.15151515, ...,   6.85930736,\n",
       "          5.68831169,   8.25757576],\n",
       "       [ 15.18675722,   4.55008489,   3.31578947, ...,   4.94736842,\n",
       "          3.35993209,   4.18505942],\n",
       "       ..., \n",
       "       [ 22.60869565,  11.07867495,   6.32919255, ...,   5.50931677,\n",
       "          1.8447205 ,   3.47412008],\n",
       "       [ 38.94469027,  55.91371681,  33.80088496, ...,  20.75442478,\n",
       "         12.41150442,  18.96460177],\n",
       "       [  3.91873589,   2.69525959,   1.7020316 , ...,   1.82392777,\n",
       "          0.81715576,   9.87358916]])"
      ]
     },
     "execution_count": 40,
     "metadata": {},
     "output_type": "execute_result"
    }
   ],
   "source": [
    "classifier.cluster_centers_"
   ]
  },
  {
   "cell_type": "code",
   "execution_count": 2,
   "metadata": {
    "collapsed": true
   },
   "outputs": [],
   "source": [
    "import numpy as np"
   ]
  },
  {
   "cell_type": "code",
   "execution_count": 9,
   "metadata": {
    "collapsed": false
   },
   "outputs": [],
   "source": [
    "items1 = d.get_items_in_collection('no left turn signs')"
   ]
  },
  {
   "cell_type": "code",
   "execution_count": 10,
   "metadata": {
    "collapsed": false
   },
   "outputs": [],
   "source": [
    "items = d.get_items_in_collection('stop signs')"
   ]
  },
  {
   "cell_type": "code",
   "execution_count": 11,
   "metadata": {
    "collapsed": true
   },
   "outputs": [],
   "source": [
    "nr_of_bins = 50"
   ]
  },
  {
   "cell_type": "code",
   "execution_count": 22,
   "metadata": {
    "collapsed": false
   },
   "outputs": [],
   "source": [
    "stop_signs_features = fex.extract_features_from_collection(items)"
   ]
  },
  {
   "cell_type": "code",
   "execution_count": 23,
   "metadata": {
    "collapsed": false
   },
   "outputs": [],
   "source": [
    "left_turn_features = fex.extract_features_from_collection(items1)"
   ]
  },
  {
   "cell_type": "code",
   "execution_count": 15,
   "metadata": {
    "collapsed": false
   },
   "outputs": [
    {
     "data": {
      "text/plain": [
       "22813"
      ]
     },
     "execution_count": 15,
     "metadata": {},
     "output_type": "execute_result"
    }
   ],
   "source": [
    "len(left_turn_features)"
   ]
  },
  {
   "cell_type": "code",
   "execution_count": 294,
   "metadata": {
    "collapsed": true
   },
   "outputs": [],
   "source": [
    "import collections"
   ]
  },
  {
   "cell_type": "code",
   "execution_count": 25,
   "metadata": {
    "collapsed": true
   },
   "outputs": [],
   "source": [
    "l = []\n",
    "l.extend(stop_signs_features)\n",
    "l.extend(left_turn_features)"
   ]
  },
  {
   "cell_type": "code",
   "execution_count": 26,
   "metadata": {
    "collapsed": false
   },
   "outputs": [
    {
     "data": {
      "text/plain": [
       "47919"
      ]
     },
     "execution_count": 26,
     "metadata": {},
     "output_type": "execute_result"
    }
   ],
   "source": [
    "len(l)"
   ]
  },
  {
   "cell_type": "code",
   "execution_count": 20,
   "metadata": {
    "collapsed": true
   },
   "outputs": [],
   "source": [
    "kmeans_classifier = KMeans(n_jobs=-1, n_clusters=50)"
   ]
  },
  {
   "cell_type": "code",
   "execution_count": 21,
   "metadata": {
    "collapsed": false
   },
   "outputs": [
    {
     "data": {
      "text/plain": [
       "KMeans(copy_x=True, init='k-means++', max_iter=300, n_clusters=50, n_init=10,\n",
       "    n_jobs=-1, precompute_distances='auto', random_state=None, tol=0.0001,\n",
       "    verbose=0)"
      ]
     },
     "execution_count": 21,
     "metadata": {},
     "output_type": "execute_result"
    }
   ],
   "source": [
    "kmeans_classifier.fit(l)"
   ]
  },
  {
   "cell_type": "code",
   "execution_count": 7,
   "metadata": {
    "collapsed": true
   },
   "outputs": [],
   "source": [
    "from collections import deque"
   ]
  },
  {
   "cell_type": "code",
   "execution_count": 15,
   "metadata": {
    "collapsed": true
   },
   "outputs": [],
   "source": [
    "l = deque([2,3])"
   ]
  },
  {
   "cell_type": "code",
   "execution_count": 16,
   "metadata": {
    "collapsed": true
   },
   "outputs": [],
   "source": [
    "l.extend([4,4,5])"
   ]
  },
  {
   "cell_type": "code",
   "execution_count": 17,
   "metadata": {
    "collapsed": false
   },
   "outputs": [
    {
     "data": {
      "text/plain": [
       "deque([2, 3, 4, 4, 5])"
      ]
     },
     "execution_count": 17,
     "metadata": {},
     "output_type": "execute_result"
    }
   ],
   "source": [
    "l"
   ]
  },
  {
   "cell_type": "code",
   "execution_count": 13,
   "metadata": {
    "collapsed": true
   },
   "outputs": [],
   "source": [
    "kmeans_classifier = KMeans(n_jobs=-1, n_clusters=2)"
   ]
  },
  {
   "cell_type": "code",
   "execution_count": 10,
   "metadata": {
    "collapsed": false
   },
   "outputs": [
    {
     "data": {
      "text/plain": [
       "KMeans(copy_x=True, init='k-means++', max_iter=300, n_clusters=2, n_init=10,\n",
       "    n_jobs=-1, precompute_distances='auto', random_state=None, tol=0.0001,\n",
       "    verbose=0)"
      ]
     },
     "execution_count": 10,
     "metadata": {},
     "output_type": "execute_result"
    }
   ],
   "source": [
    "kmeans_classifier.fit([[1,2,3],[3,4,4]])"
   ]
  },
  {
   "cell_type": "code",
   "execution_count": 8,
   "metadata": {
    "collapsed": false
   },
   "outputs": [],
   "source": [
    "import collections\n",
    "nr_of_bins = 50\n",
    "import numpy as np \n",
    "def extract_histograms_from_features(classifier, images):\n",
    "    zrs = collections.deque()\n",
    "    for image in images:\n",
    "        image = fex.perform_sift(image)\n",
    "        if image is not None:\n",
    "            zr = classifier.predict(image)\n",
    "            hist, bin_edges = np.histogram(zr, bins=nr_of_bins, density=True)\n",
    "            zrs.append(hist)\n",
    "    return zrs"
   ]
  },
  {
   "cell_type": "code",
   "execution_count": 45,
   "metadata": {
    "collapsed": false,
    "scrolled": true
   },
   "outputs": [],
   "source": [
    "this_img = fex.perform_sift(d.get_items_in_collection('stop signs')[0])\n",
    "zr = kmeans_classifier.predict(this_img)"
   ]
  },
  {
   "cell_type": "code",
   "execution_count": 43,
   "metadata": {
    "collapsed": false
   },
   "outputs": [
    {
     "data": {
      "text/plain": [
       "array([ 2,  2,  2, 41,  2, 41])"
      ]
     },
     "execution_count": 43,
     "metadata": {},
     "output_type": "execute_result"
    }
   ],
   "source": [
    "zr"
   ]
  },
  {
   "cell_type": "code",
   "execution_count": 1,
   "metadata": {
    "collapsed": false
   },
   "outputs": [
    {
     "ename": "NameError",
     "evalue": "name 'kmeans_classifier' is not defined",
     "output_type": "error",
     "traceback": [
      "\u001b[1;31m---------------------------------------------------------------------------\u001b[0m",
      "\u001b[1;31mNameError\u001b[0m                                 Traceback (most recent call last)",
      "\u001b[1;32m<ipython-input-1-cea988119296>\u001b[0m in \u001b[0;36m<module>\u001b[1;34m()\u001b[0m\n\u001b[1;32m----> 1\u001b[1;33m \u001b[0mkmeans_classifier\u001b[0m\u001b[1;33m\u001b[0m\u001b[0m\n\u001b[0m",
      "\u001b[1;31mNameError\u001b[0m: name 'kmeans_classifier' is not defined"
     ]
    }
   ],
   "source": [
    "kmeans_classifier"
   ]
  },
  {
   "cell_type": "code",
   "execution_count": 38,
   "metadata": {
    "collapsed": false,
    "scrolled": true
   },
   "outputs": [
    {
     "data": {
      "text/plain": [
       "29"
      ]
     },
     "execution_count": 38,
     "metadata": {},
     "output_type": "execute_result"
    }
   ],
   "source": [
    "kmeans_classifier.predict([left_turn_features[0]])[0]"
   ]
  },
  {
   "cell_type": "code",
   "execution_count": 59,
   "metadata": {
    "collapsed": false
   },
   "outputs": [],
   "source": [
    "stop_signs_hists = extract_histograms_from_features(kmeans_classifier, d.get_items_in_collection('stop signs'))\n",
    "left_turn_hists = extract_histograms_from_features(kmeans_classifier, d.get_items_in_collection('no left turn signs'))"
   ]
  },
  {
   "cell_type": "code",
   "execution_count": 60,
   "metadata": {
    "collapsed": false
   },
   "outputs": [
    {
     "data": {
      "text/plain": [
       "164"
      ]
     },
     "execution_count": 60,
     "metadata": {},
     "output_type": "execute_result"
    }
   ],
   "source": [
    "len(stop_signs_hists)"
   ]
  },
  {
   "cell_type": "code",
   "execution_count": 61,
   "metadata": {
    "collapsed": false
   },
   "outputs": [
    {
     "data": {
      "text/plain": [
       "154"
      ]
     },
     "execution_count": 61,
     "metadata": {},
     "output_type": "execute_result"
    }
   ],
   "source": [
    "len(left_turn_hists)"
   ]
  },
  {
   "cell_type": "code",
   "execution_count": 74,
   "metadata": {
    "collapsed": false
   },
   "outputs": [],
   "source": [
    "l = list()\n",
    "l.extend(stop_signs_hists)\n",
    "l.extend(left_turn_hists)\n",
    "X = l"
   ]
  },
  {
   "cell_type": "code",
   "execution_count": 76,
   "metadata": {
    "collapsed": false
   },
   "outputs": [
    {
     "data": {
      "text/plain": [
       "array([ 0.85470085,  0.        ,  0.        ,  0.        ,  0.        ,\n",
       "        0.        ,  0.        ,  0.        ,  0.        ,  0.        ,\n",
       "        0.        ,  0.        ,  0.        ,  0.        ,  0.        ,\n",
       "        0.        ,  0.        ,  0.        ,  0.        ,  0.        ,\n",
       "        0.        ,  0.        ,  0.        ,  0.        ,  0.        ,\n",
       "        0.        ,  0.        ,  0.        ,  0.        ,  0.        ,\n",
       "        0.        ,  0.        ,  0.        ,  0.        ,  0.        ,\n",
       "        0.        ,  0.        ,  0.        ,  0.        ,  0.        ,\n",
       "        0.        ,  0.        ,  0.        ,  0.        ,  0.        ,\n",
       "        0.        ,  0.        ,  0.        ,  0.        ,  0.42735043])"
      ]
     },
     "execution_count": 76,
     "metadata": {},
     "output_type": "execute_result"
    }
   ],
   "source": [
    "X[0]"
   ]
  },
  {
   "cell_type": "code",
   "execution_count": 67,
   "metadata": {
    "collapsed": true
   },
   "outputs": [],
   "source": [
    "labels = ['stop sign'] * len(stop_signs_hists)"
   ]
  },
  {
   "cell_type": "code",
   "execution_count": 68,
   "metadata": {
    "collapsed": true
   },
   "outputs": [],
   "source": [
    "labels.extend(['no left turns'] * len(left_turn_hists))"
   ]
  },
  {
   "cell_type": "code",
   "execution_count": 71,
   "metadata": {
    "collapsed": true
   },
   "outputs": [],
   "source": [
    "from sklearn.svm import SVC\n",
    "clf = SVC()"
   ]
  },
  {
   "cell_type": "code",
   "execution_count": 77,
   "metadata": {
    "collapsed": false
   },
   "outputs": [
    {
     "data": {
      "text/plain": [
       "SVC(C=1.0, cache_size=200, class_weight=None, coef0=0.0,\n",
       "  decision_function_shape=None, degree=3, gamma='auto', kernel='rbf',\n",
       "  max_iter=-1, probability=False, random_state=None, shrinking=True,\n",
       "  tol=0.001, verbose=False)"
      ]
     },
     "execution_count": 77,
     "metadata": {},
     "output_type": "execute_result"
    }
   ],
   "source": [
    "clf.fit(X, labels)"
   ]
  },
  {
   "cell_type": "code",
   "execution_count": 35,
   "metadata": {
    "collapsed": true
   },
   "outputs": [],
   "source": [
    "img_path = \"C:\\\\Users\\\\darkg\\\\Desktop\\\\test_img_timisoara.jpg\""
   ]
  },
  {
   "cell_type": "code",
   "execution_count": 46,
   "metadata": {
    "collapsed": true
   },
   "outputs": [],
   "source": [
    "test_hist = extract_histograms_from_features(kmeans_classifier, [d.get_items_in_collection('no left turn signs')[3]])"
   ]
  },
  {
   "cell_type": "code",
   "execution_count": 47,
   "metadata": {
    "collapsed": false
   },
   "outputs": [
    {
     "data": {
      "text/plain": [
       "array([ 0.04444444,  0.02222222,  0.        ,  0.        ,  0.02222222,\n",
       "        0.        ,  0.11111111,  0.        ,  0.02222222,  0.        ,\n",
       "        0.        ,  0.        ,  0.11111111,  0.02222222,  0.02222222,\n",
       "        0.        ,  0.04444444,  0.        ,  0.        ,  0.        ,\n",
       "        0.        ,  0.        ,  0.        ,  0.        ,  0.08888889,\n",
       "        0.02222222,  0.        ,  0.06666667,  0.13333333,  0.        ,\n",
       "        0.        ,  0.        ,  0.        ,  0.15555556,  0.        ,\n",
       "        0.        ,  0.        ,  0.02222222,  0.        ,  0.        ,\n",
       "        0.        ,  0.        ,  0.        ,  0.        ,  0.02222222,\n",
       "        0.        ,  0.        ,  0.        ,  0.02222222,  0.15555556])"
      ]
     },
     "execution_count": 47,
     "metadata": {},
     "output_type": "execute_result"
    }
   ],
   "source": [
    "test_hist[0]"
   ]
  },
  {
   "cell_type": "code",
   "execution_count": 1,
   "metadata": {
    "collapsed": true
   },
   "outputs": [],
   "source": [
    "from imclas.data_acquisition import DAL"
   ]
  },
  {
   "cell_type": "code",
   "execution_count": 2,
   "metadata": {
    "collapsed": true
   },
   "outputs": [],
   "source": [
    "d = DAL()"
   ]
  },
  {
   "cell_type": "code",
   "execution_count": 32,
   "metadata": {
    "collapsed": true
   },
   "outputs": [],
   "source": [
    "clf = d.load_classifier_object('stop signs~no left turn signs', 'svm')"
   ]
  },
  {
   "cell_type": "code",
   "execution_count": 9,
   "metadata": {
    "collapsed": true
   },
   "outputs": [],
   "source": [
    "kmeans_classifier = d.load_classifier_object('stop signs~no left turn signs', 'kmeans')"
   ]
  },
  {
   "cell_type": "code",
   "execution_count": 33,
   "metadata": {
    "collapsed": false
   },
   "outputs": [
    {
     "data": {
      "text/plain": [
       "LinearSVC(C=1.0, class_weight=None, dual=True, fit_intercept=True,\n",
       "     intercept_scaling=1, loss='squared_hinge', max_iter=1000,\n",
       "     multi_class='ovr', penalty='l2', random_state=None, tol=0.0001,\n",
       "     verbose=0)"
      ]
     },
     "execution_count": 33,
     "metadata": {},
     "output_type": "execute_result"
    }
   ],
   "source": [
    "clf"
   ]
  },
  {
   "cell_type": "code",
   "execution_count": 49,
   "metadata": {
    "collapsed": false,
    "scrolled": true
   },
   "outputs": [
    {
     "data": {
      "text/plain": [
       "array(['stop signs'], \n",
       "      dtype='|S18')"
      ]
     },
     "execution_count": 49,
     "metadata": {},
     "output_type": "execute_result"
    }
   ],
   "source": [
    "clf.predict([test_hist[0]])"
   ]
  },
  {
   "cell_type": "code",
   "execution_count": 36,
   "metadata": {
    "collapsed": false
   },
   "outputs": [],
   "source": [
    "other_test_hist = extract_histograms_from_features(kmeans_classifier, [img_path])"
   ]
  },
  {
   "cell_type": "code",
   "execution_count": 14,
   "metadata": {
    "collapsed": false,
    "scrolled": false
   },
   "outputs": [
    {
     "data": {
      "text/plain": [
       "deque([array([  2.49404439e-03,   7.74013777e-04,   7.74013777e-04,\n",
       "                1.64262924e-02,   8.60015308e-04,   8.25614696e-03,\n",
       "                1.11801990e-03,   5.79650318e-02,   3.69806583e-03,\n",
       "                3.61206429e-03,   2.49404439e-03,   6.02010716e-03,\n",
       "                9.46016839e-04,   1.11801990e-03,   7.39613165e-03,\n",
       "                5.41809644e-03,   2.32204133e-03,   1.63402909e-03,\n",
       "                1.46202602e-03,   5.16009185e-04,   1.20402143e-03,\n",
       "                4.65182280e-01,   2.92405205e-03,   1.29002296e-03,\n",
       "                6.02010716e-04,   2.49404439e-03,   1.29002296e-03,\n",
       "                1.37602449e-03,   7.78313854e-02,   1.97803521e-03,\n",
       "                2.75204899e-03,   1.37602449e-03,   6.88012247e-04,\n",
       "                2.83805052e-03,   1.03201837e-03,   3.44006123e-04,\n",
       "                1.46202602e-03,   2.58004592e-04,   1.29002296e-03,\n",
       "                1.20402143e-03,   2.87331114e-01,   2.75204899e-03,\n",
       "                7.74013777e-04,   1.89203368e-03,   1.79743199e-02,\n",
       "                1.63402909e-03,   1.20402143e-03,   4.30007654e-03,\n",
       "                4.81608573e-03,   3.01005358e-03])])"
      ]
     },
     "execution_count": 14,
     "metadata": {},
     "output_type": "execute_result"
    }
   ],
   "source": [
    "other_test_hist"
   ]
  },
  {
   "cell_type": "code",
   "execution_count": 41,
   "metadata": {
    "collapsed": false,
    "scrolled": true
   },
   "outputs": [
    {
     "data": {
      "text/plain": [
       "array(['stop signs'], \n",
       "      dtype='|S18')"
      ]
     },
     "execution_count": 41,
     "metadata": {},
     "output_type": "execute_result"
    }
   ],
   "source": [
    "clf.predict([other_test_hist[0]])"
   ]
  },
  {
   "cell_type": "code",
   "execution_count": 45,
   "metadata": {
    "collapsed": false,
    "scrolled": true
   },
   "outputs": [
    {
     "data": {
      "text/plain": [
       "[('no left turn signs', 0.059757273519825203)]"
      ]
     },
     "execution_count": 45,
     "metadata": {},
     "output_type": "execute_result"
    }
   ],
   "source": [
    "zip(clf.classes_, clf.decision_function([other_test_hist[0]]))"
   ]
  },
  {
   "cell_type": "code",
   "execution_count": 39,
   "metadata": {
    "collapsed": false
   },
   "outputs": [
    {
     "data": {
      "text/plain": [
       "array(['no left turn signs', 'stop signs'], \n",
       "      dtype='|S18')"
      ]
     },
     "execution_count": 39,
     "metadata": {},
     "output_type": "execute_result"
    }
   ],
   "source": [
    "clf.classes_"
   ]
  },
  {
   "cell_type": "code",
   "execution_count": 40,
   "metadata": {
    "collapsed": false,
    "scrolled": true
   },
   "outputs": [
    {
     "ename": "AttributeError",
     "evalue": "'LinearSVC' object has no attribute 'predict_log_proba'",
     "output_type": "error",
     "traceback": [
      "\u001b[1;31m\u001b[0m",
      "\u001b[1;31mAttributeError\u001b[0mTraceback (most recent call last)",
      "\u001b[1;32m<ipython-input-40-9e9fc267cdf2>\u001b[0m in \u001b[0;36m<module>\u001b[1;34m()\u001b[0m\n\u001b[1;32m----> 1\u001b[1;33m \u001b[0mclf\u001b[0m\u001b[1;33m.\u001b[0m\u001b[0mpredict_log_proba\u001b[0m\u001b[1;33m(\u001b[0m\u001b[1;33m[\u001b[0m\u001b[0mother_test_hist\u001b[0m\u001b[1;33m[\u001b[0m\u001b[1;36m0\u001b[0m\u001b[1;33m]\u001b[0m\u001b[1;33m]\u001b[0m\u001b[1;33m)\u001b[0m\u001b[1;33m\u001b[0m\u001b[0m\n\u001b[0m",
      "\u001b[1;31mAttributeError\u001b[0m: 'LinearSVC' object has no attribute 'predict_log_proba'"
     ]
    }
   ],
   "source": [
    "clf.predict_log_proba([other_test_hist[0]])"
   ]
  },
  {
   "cell_type": "code",
   "execution_count": 288,
   "metadata": {
    "collapsed": false
   },
   "outputs": [],
   "source": [
    "zrs = collections.deque()\n",
    "for coll in items:\n",
    "    this_img = fex._perform_sift(coll)\n",
    "    zr = classifier.predict(this_img)\n",
    "    hist, bin_edges = np.histogram(zr, bins=nr_of_bins, density=True)\n",
    "    zrs.append((hist, bin_edges))"
   ]
  },
  {
   "cell_type": "code",
   "execution_count": 262,
   "metadata": {
    "collapsed": false
   },
   "outputs": [
    {
     "data": {
      "image/png": "[encoded data removed]",
      "text/plain": [
       "<matplotlib.figure.Figure at 0x27b57898>"
      ]
     },
     "metadata": {},
     "output_type": "display_data"
    }
   ],
   "source": [
    "hist, bin_edges = zrs[0]\n",
    "plt.bar(bin_edges[:-1], hist, width = 1)\n",
    "plt.xlim(min(bin_edges), max(bin_edges))\n",
    "plt.show()"
   ]
  },
  {
   "cell_type": "code",
   "execution_count": 263,
   "metadata": {
    "collapsed": false
   },
   "outputs": [
    {
     "data": {
      "image/png": "[encoded data removed]",
      "text/plain": [
       "<matplotlib.figure.Figure at 0x29b14b38>"
      ]
     },
     "metadata": {},
     "output_type": "display_data"
    }
   ],
   "source": [
    "hist, bin_edges = zrs[1]\n",
    "plt.bar(bin_edges[:-1], hist, width = 1)\n",
    "plt.xlim(min(bin_edges), max(bin_edges))\n",
    "plt.show()"
   ]
  },
  {
   "cell_type": "code",
   "execution_count": 264,
   "metadata": {
    "collapsed": false,
    "scrolled": true
   },
   "outputs": [
    {
     "data": {
      "image/png": "[encoded data removed]",
      "text/plain": [
       "<matplotlib.figure.Figure at 0x282a0eb8>"
      ]
     },
     "metadata": {},
     "output_type": "display_data"
    }
   ],
   "source": [
    "hist, bin_edges = zrs[6]\n",
    "plt.bar(bin_edges[:-1], hist, width = 1)\n",
    "plt.xlim(min(bin_edges), max(bin_edges))\n",
    "plt.show()"
   ]
  },
  {
   "cell_type": "code",
   "execution_count": null,
   "metadata": {
    "collapsed": true
   },
   "outputs": [],
   "source": []
  },
  {
   "cell_type": "code",
   "execution_count": 266,
   "metadata": {
    "collapsed": true
   },
   "outputs": [],
   "source": [
    "from sklearn.svm import SVC"
   ]
  },
  {
   "cell_type": "code",
   "execution_count": 280,
   "metadata": {
    "collapsed": false
   },
   "outputs": [
    {
     "data": {
      "text/plain": [
       "SVC(C=1.0, cache_size=200, class_weight=None, coef0=0.0,\n",
       "  decision_function_shape=None, degree=3, gamma='auto', kernel='rbf',\n",
       "  max_iter=-1, probability=True, random_state=None, shrinking=True,\n",
       "  tol=0.001, verbose=False)"
      ]
     },
     "execution_count": 280,
     "metadata": {},
     "output_type": "execute_result"
    }
   ],
   "source": [
    "clf = SVC(probability=True) \n",
    "X = np.array([[-1, -1], [-2, -1], [1, 1], [2, 1]])\n",
    "y = np.array(['stop','stop','no turn','no turn'])\n",
    "clf.fit(X,y)"
   ]
  },
  {
   "cell_type": "code",
   "execution_count": 284,
   "metadata": {
    "collapsed": false
   },
   "outputs": [
    {
     "data": {
      "text/plain": [
       "array(['stop'], \n",
       "      dtype='|S7')"
      ]
     },
     "execution_count": 284,
     "metadata": {},
     "output_type": "execute_result"
    }
   ],
   "source": [
    "clf.predict([[-1,-1]])"
   ]
  },
  {
   "cell_type": "code",
   "execution_count": 296,
   "metadata": {
    "collapsed": false
   },
   "outputs": [
    {
     "data": {
      "text/plain": [
       "'stop signs~no turn left signs'"
      ]
     },
     "execution_count": 296,
     "metadata": {},
     "output_type": "execute_result"
    }
   ],
   "source": [
    "'~'.join(['stop signs', 'no turn left signs'])"
   ]
  },
  {
   "cell_type": "code",
   "execution_count": null,
   "metadata": {
    "collapsed": true
   },
   "outputs": [],
   "source": []
  }
 ],
 "metadata": {
  "kernelspec": {
   "display_name": "Python 2",
   "language": "python",
   "name": "python2"
  },
  "language_info": {
   "codemirror_mode": {
    "name": "ipython",
    "version": 2
   },
   "file_extension": ".py",
   "mimetype": "text/x-python",
   "name": "python",
   "nbconvert_exporter": "python",
   "pygments_lexer": "ipython2",
   "version": "2.7.11"
  }
 },
 "nbformat": 4,
 "nbformat_minor": 0
}
